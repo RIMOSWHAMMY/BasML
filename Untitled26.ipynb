{
 "cells": [
  {
   "cell_type": "code",
   "execution_count": 7,
   "id": "dac06125-d6fa-424c-b5a8-cd46303ba1c7",
   "metadata": {},
   "outputs": [],
   "source": [
    "from sklearn.datasets import load_iris\n",
    "iris=load_iris()\n",
    "from sklearn.linear_model import LogisticRegression\n",
    "from sklearn.svm import SVC\n",
    "from sklearn.ensemble import RandomForestClassifier\n",
    "from sklearn.model_selection import train_test_split\n",
    "from sklearn.model_selection import StratifiedKFold\n",
    "from sklearn.model_selection import cross_val_score\n",
    "import numpy as np"
   ]
  },
  {
   "cell_type": "code",
   "execution_count": 31,
   "id": "c382a502-8ef0-4b05-b532-65c9ca0e6f36",
   "metadata": {},
   "outputs": [],
   "source": [
    "lr=LogisticRegression(max_iter=120)\n",
    "svc=SVC()\n",
    "rf=RandomForestClassifier(n_estimators=50)\n",
    "score=[lr,svc,rf]"
   ]
  },
  {
   "cell_type": "code",
   "execution_count": 28,
   "id": "d8168c00-7bb4-4aa3-858a-147e46f19560",
   "metadata": {},
   "outputs": [
    {
     "data": {
      "text/plain": [
       "np.float64(0.9733333333333334)"
      ]
     },
     "execution_count": 28,
     "metadata": {},
     "output_type": "execute_result"
    }
   ],
   "source": [
    "np.average(cross_val_score(lr,iris.data,iris.target))"
   ]
  },
  {
   "cell_type": "code",
   "execution_count": 26,
   "id": "2b3a930f-25c4-49db-909e-ad1d48bec751",
   "metadata": {},
   "outputs": [
    {
     "data": {
      "text/plain": [
       "np.float64(0.9666666666666668)"
      ]
     },
     "execution_count": 26,
     "metadata": {},
     "output_type": "execute_result"
    }
   ],
   "source": [
    "np.average(cross_val_score(rf,iris.data,iris.target))"
   ]
  },
  {
   "cell_type": "code",
   "execution_count": 27,
   "id": "50151840-298c-4f4f-b085-03083be6550b",
   "metadata": {},
   "outputs": [
    {
     "data": {
      "text/plain": [
       "np.float64(0.9666666666666666)"
      ]
     },
     "execution_count": 27,
     "metadata": {},
     "output_type": "execute_result"
    }
   ],
   "source": [
    "np.average(cross_val_score(svc,iris.data,iris.target))"
   ]
  },
  {
   "cell_type": "code",
   "execution_count": 43,
   "id": "9b03e640-bb3d-416f-87c3-9df7643fb10d",
   "metadata": {},
   "outputs": [],
   "source": [
    "l=dict()\n",
    "for i in score:\n",
    "    l[f'{i}']=np.average(cross_val_score(i,iris.data,iris.target))"
   ]
  },
  {
   "cell_type": "code",
   "execution_count": 46,
   "id": "77285248-3b08-44af-aa25-ce0cc5cece6c",
   "metadata": {},
   "outputs": [
    {
     "data": {
      "text/plain": [
       "'SVC()'"
      ]
     },
     "execution_count": 46,
     "metadata": {},
     "output_type": "execute_result"
    }
   ],
   "source": [
    "max(l)"
   ]
  }
 ],
 "metadata": {
  "kernelspec": {
   "display_name": "Python 3 (ipykernel)",
   "language": "python",
   "name": "python3"
  },
  "language_info": {
   "codemirror_mode": {
    "name": "ipython",
    "version": 3
   },
   "file_extension": ".py",
   "mimetype": "text/x-python",
   "name": "python",
   "nbconvert_exporter": "python",
   "pygments_lexer": "ipython3",
   "version": "3.13.2"
  }
 },
 "nbformat": 4,
 "nbformat_minor": 5
}
